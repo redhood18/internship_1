{
 "cells": [
  {
   "cell_type": "code",
   "execution_count": 3,
   "id": "2fc80f86-dbc2-4faf-8351-7fed652ba24e",
   "metadata": {},
   "outputs": [
    {
     "name": "stdout",
     "output_type": "stream",
     "text": [
      "{'ids': [['data/.ipynb_checkpoints/HT2000W-Satellite-Modem-User-Sheet-checkpoint.pdf_1']], 'distances': [[0.829623281955719]], 'metadatas': [[None]], 'embeddings': None, 'documents': [[' modem’s Wi -Fi service.  \\n1. To access these pages, click t he Wi-Fi Settings  link on the side \\npanel . You will see the login page as shown in Figure 8.  \\n2. The default password is “admin.” Ent er this password in the dialog \\nbox and click Login . \\n \\nFigure 8: Wi -Fi Settings login screen  \\n \\n \\n \\n 4 3 1 2 Do not block any of the modem’s \\nventilation openings. Leave six \\ninches around the top and sides of \\nthe modem to ensure adequate \\nventilation. Do not put the modem \\nnear a heat source such as direct \\nsunlight, a radiator, or a vent.1041318 -0001 Revision A  January 26 , 2017 \\n8   \\n  \\n Once you have logged in, you will see the Wi -Fi Settings home screen, as \\nshown in Figure 9.  \\n \\nFigure 9: Wi-Fi Settings home screen  \\nWe recommend you change the default login password immediately upon \\ninstallation. Choose a password that is easy to remember but cannot be \\neasily guessed. To do this:  \\n1. On the left panel, click  Administration . \\n2. New option s will appear in the left panel. Click  Password Settings . \\n \\n3. Type in your old password, followed by your new password, typed twice for verification.  \\n4. Click Save Settings . \\n5. Once finished applying changes, you will be logged out, and your \\nnew password must be used to log in.  \\nSee the following section for details about how to access and use the Wi -Fi \\nSettings pages.  \\n \\nHow do I manage my built -in Wi- Fi \\nmodem ? \\n1. Type 192.168.0.1  into any web browser connected (wirelessly or via \\nLAN cable) to your HT2000W.  \\n2. Click the Wi-Fi Settings  link mentioned on the previous page.  \\n3. Enter the default administrative password: “admin”  \\n4. Click the LOGIN  button.  \\n5. Here are some optional features of the Wi -Fi Settings:  \\na. Modify the default SSID and password for both the 2.4GHz and \\n5GHz bands.  \\nb. Enable and/or name the 2.4GHz and 5 GHz guest networks.  \\nc. Disable Wi- Fi from your HT2000W by unchecking “SSID enable” for \\neach tab (2.4GHz, 2.4GHz Guest, 5GHz, and 5GHz Guest).  \\nd. View which devices are connected.  \\ne. Manage parental control features, port forwarding, etc.  \\nHow do I pair my device(s) to my \\nHughesNet Wi -Fi modem ? \\nManual pairing method:  \\n1. See the back panel of the HT2000W. Look for the sticker p ictured \\nbelow:  \\n \\n2. The SSIDs for both the 2.4GHz and 5GHz networks are listed.  \\n3. The password listed is the same for both networks.  \\n4. Using the device you wish to pair, search for either wireless network \\nmatching the SSID above.  \\n5. Connect to the network.  \\n6. When prompted for a password, enter the password exactly as it \\nappears on the label on the back of the HT2000W, referenced above.  \\nWi-Fi Protected Setup  (WPS)  \\n1. Put your device into WPS pairing mode (this step varies by device).  \\n2. Once your device tells you to, press the WPS button on the HT2000W.  \\n3. Your device should then connect to the HT2000W’s wireless network \\nautomatically.  \\nTroubleshooting  \\nIf you are having trouble with the function of your modem, review the \\nfollowing sections for information that may help you discover the source of the problem and/or how to fix it.  \\nConnecting the modem power cord  \\nThe HT2000W power cord connector uses a locking mechanism to ensure it stays snugly connected to the modem. Make sure the connector is oriented correctly when plugging it  into the DC IN port; the flat side of the plug \\nshould face the modem’s side panel  nearest to the port . \\nFigure 10 shows the correct position of the  power cord connector. When \\nconnecting the power cord, you must push the connector into the DC IN \\nport.  This creates a locking connection between the power cord and the \\nmodem.  \\n \\nFigure 10:  Aligning the power cord connector  \\nIt is not recommended that you attempt to disconnect the power cord \\nfrom the modem, unless instructed to do so by Customer Care.  \\nIf you need t o turn off or power cycle the modem, simply unplug the cord \\nfrom the electrical outlet.  \\nComputer Requirements  \\nThe computer that connects to the satellite modem should meet the \\nminimum requirements specified by the computer operating system']], 'uris': None, 'data': None, 'included': ['metadatas', 'documents', 'distances']}\n"
     ]
    }
   ],
   "source": [
    "from langchain_community.document_loaders import PyPDFLoader\n",
    "\n",
    "import os\n",
    "import glob\n",
    "import tiktoken\n",
    "import pandas as pd\n",
    "from datetime import datetime\n",
    "\n",
    "from utils import *\n",
    "from chromadb_utils import *\n",
    "\n",
    "## Chromadb configuration\n",
    "import chromadb\n",
    "chroma_client = chromadb.Client()\n",
    "collection_name = 'story_collection'\n",
    "\n",
    "already_stored_cdb = True\n",
    "\n",
    "if not already_stored_cdb:\n",
    "    \n",
    "    # PDF data location/path\n",
    "    root_directory = 'data'\n",
    "    chunk_size = 1024\n",
    "    overlap = 80\n",
    "    doc_content_df = pd.DataFrame()\n",
    "    \n",
    "    # Listing all the pdf files listed in root_directory\n",
    "    files = get_pdf_files(root_directory)\n",
    "    \n",
    "    # Extract the files content and persisting in DF\n",
    "    for file in files:\n",
    "        doc_content = extract_pdf_content(file)    \n",
    "        entry  = {'doc_name':file,'doc_content' : doc_content}\n",
    "        doc_content_df = doc_content_df.append(entry, ignore_index=True)\n",
    "    \n",
    "    # creating the chunks of files content of configured size\n",
    "    encoding = tiktoken.get_encoding(\"cl100k_base\")\n",
    "    doc_content_df = doc_content_df.apply(lambda row: create_chunks(row, encoding, chunk_size, overlap), axis=1)\n",
    "    \n",
    "    # Creating the chromadb collection. if it already created, will return collection instance with exception - collection already present.\n",
    "    collection = chroma_client.create_collection(name=collection_name)\n",
    "    \n",
    "    # Upsert the chunks in chroma db with respective ID's\n",
    "    doc_content_df = doc_content_df.apply(lambda row: upsert_to_chromadb(row, collection), axis=1)\n",
    "    \n",
    "    timestamp = datetime.now().timestamp()\n",
    "    \n",
    "    doc_content_df.to_csv(f'data/{collection_name}-{timestamp}.csv')\n",
    "    \n",
    "\n",
    "# Test Your RAG retrival part.\n",
    "if collection is None:\n",
    "    collection = chroma_client.create_collection(name=collection_name)\n",
    "\n",
    "results = collection.query(\n",
    "    query_texts=[\"Explain me the wifi settings \"],\n",
    "    n_results=1)\n",
    "\n"
   ]
  },
  {
   "cell_type": "code",
   "execution_count": 7,
   "id": "84cadbdc-6b1a-422f-9bf0-1944b548e261",
   "metadata": {},
   "outputs": [
    {
     "name": "stdout",
     "output_type": "stream",
     "text": [
      "HT2000W-Satellite-Modem-User-Sheet-checkpoint.pdf_1\n"
     ]
    }
   ],
   "source": [
    "print(results.get('ids')[0][0].split('/')[-1])"
   ]
  },
  {
   "cell_type": "code",
   "execution_count": 8,
   "id": "a84a8cbf-de4c-45c1-b05c-0dc1af029947",
   "metadata": {},
   "outputs": [
    {
     "name": "stdout",
     "output_type": "stream",
     "text": [
      " modem’s Wi -Fi service.  \n",
      "1. To access these pages, click t he Wi-Fi Settings  link on the side \n",
      "panel . You will see the login page as shown in Figure 8.  \n",
      "2. The default password is “admin.” Ent er this password in the dialog \n",
      "box and click Login . \n",
      " \n",
      "Figure 8: Wi -Fi Settings login screen  \n",
      " \n",
      " \n",
      " \n",
      " 4 3 1 2 Do not block any of the modem’s \n",
      "ventilation openings. Leave six \n",
      "inches around the top and sides of \n",
      "the modem to ensure adequate \n",
      "ventilation. Do not put the modem \n",
      "near a heat source such as direct \n",
      "sunlight, a radiator, or a vent.1041318 -0001 Revision A  January 26 , 2017 \n",
      "8   \n",
      "  \n",
      " Once you have logged in, you will see the Wi -Fi Settings home screen, as \n",
      "shown in Figure 9.  \n",
      " \n",
      "Figure 9: Wi-Fi Settings home screen  \n",
      "We recommend you change the default login password immediately upon \n",
      "installation. Choose a password that is easy to remember but cannot be \n",
      "easily guessed. To do this:  \n",
      "1. On the left panel, click  Administration . \n",
      "2. New option s will appear in the left panel. Click  Password Settings . \n",
      " \n",
      "3. Type in your old password, followed by your new password, typed twice for verification.  \n",
      "4. Click Save Settings . \n",
      "5. Once finished applying changes, you will be logged out, and your \n",
      "new password must be used to log in.  \n",
      "See the following section for details about how to access and use the Wi -Fi \n",
      "Settings pages.  \n",
      " \n",
      "How do I manage my built -in Wi- Fi \n",
      "modem ? \n",
      "1. Type 192.168.0.1  into any web browser connected (wirelessly or via \n",
      "LAN cable) to your HT2000W.  \n",
      "2. Click the Wi-Fi Settings  link mentioned on the previous page.  \n",
      "3. Enter the default administrative password: “admin”  \n",
      "4. Click the LOGIN  button.  \n",
      "5. Here are some optional features of the Wi -Fi Settings:  \n",
      "a. Modify the default SSID and password for both the 2.4GHz and \n",
      "5GHz bands.  \n",
      "b. Enable and/or name the 2.4GHz and 5 GHz guest networks.  \n",
      "c. Disable Wi- Fi from your HT2000W by unchecking “SSID enable” for \n",
      "each tab (2.4GHz, 2.4GHz Guest, 5GHz, and 5GHz Guest).  \n",
      "d. View which devices are connected.  \n",
      "e. Manage parental control features, port forwarding, etc.  \n",
      "How do I pair my device(s) to my \n",
      "HughesNet Wi -Fi modem ? \n",
      "Manual pairing method:  \n",
      "1. See the back panel of the HT2000W. Look for the sticker p ictured \n",
      "below:  \n",
      " \n",
      "2. The SSIDs for both the 2.4GHz and 5GHz networks are listed.  \n",
      "3. The password listed is the same for both networks.  \n",
      "4. Using the device you wish to pair, search for either wireless network \n",
      "matching the SSID above.  \n",
      "5. Connect to the network.  \n",
      "6. When prompted for a password, enter the password exactly as it \n",
      "appears on the label on the back of the HT2000W, referenced above.  \n",
      "Wi-Fi Protected Setup  (WPS)  \n",
      "1. Put your device into WPS pairing mode (this step varies by device).  \n",
      "2. Once your device tells you to, press the WPS button on the HT2000W.  \n",
      "3. Your device should then connect to the HT2000W’s wireless network \n",
      "automatically.  \n",
      "Troubleshooting  \n",
      "If you are having trouble with the function of your modem, review the \n",
      "following sections for information that may help you discover the source of the problem and/or how to fix it.  \n",
      "Connecting the modem power cord  \n",
      "The HT2000W power cord connector uses a locking mechanism to ensure it stays snugly connected to the modem. Make sure the connector is oriented correctly when plugging it  into the DC IN port; the flat side of the plug \n",
      "should face the modem’s side panel  nearest to the port . \n",
      "Figure 10 shows the correct position of the  power cord connector. When \n",
      "connecting the power cord, you must push the connector into the DC IN \n",
      "port.  This creates a locking connection between the power cord and the \n",
      "modem.  \n",
      " \n",
      "Figure 10:  Aligning the power cord connector  \n",
      "It is not recommended that you attempt to disconnect the power cord \n",
      "from the modem, unless instructed to do so by Customer Care.  \n",
      "If you need t o turn off or power cycle the modem, simply unplug the cord \n",
      "from the electrical outlet.  \n",
      "Computer Requirements  \n",
      "The computer that connects to the satellite modem should meet the \n",
      "minimum requirements specified by the computer operating system\n"
     ]
    }
   ],
   "source": [
    "print(results.get('documents')[0][0])"
   ]
  },
  {
   "cell_type": "code",
   "execution_count": 7,
   "id": "dbb81957-eaee-4f16-942c-06ae864de144",
   "metadata": {},
   "outputs": [],
   "source": [
    "from utils import *\n",
    "from chromadb_utils import *"
   ]
  },
  {
   "cell_type": "code",
   "execution_count": null,
   "id": "58174271-1d47-4937-9999-6c64e834fc30",
   "metadata": {},
   "outputs": [],
   "source": []
  }
 ],
 "metadata": {
  "environment": {
   "kernel": "m_venv",
   "name": "tf2-gpu.2-7.m87",
   "type": "gcloud",
   "uri": "gcr.io/deeplearning-platform-release/tf2-gpu.2-7:m87"
  },
  "kernelspec": {
   "display_name": "m_venv",
   "language": "python",
   "name": "m_venv"
  },
  "language_info": {
   "codemirror_mode": {
    "name": "ipython",
    "version": 3
   },
   "file_extension": ".py",
   "mimetype": "text/x-python",
   "name": "python",
   "nbconvert_exporter": "python",
   "pygments_lexer": "ipython3",
   "version": "3.10.12"
  }
 },
 "nbformat": 4,
 "nbformat_minor": 5
}
